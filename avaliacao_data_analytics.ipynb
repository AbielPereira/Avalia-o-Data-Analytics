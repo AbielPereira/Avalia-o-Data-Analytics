{
  "nbformat": 4,
  "nbformat_minor": 0,
  "metadata": {
    "colab": {
      "name": "Abiel_Sousa.ipynb",
      "provenance": [],
      "collapsed_sections": []
    },
    "kernelspec": {
      "name": "python3",
      "display_name": "Python 3"
    },
    "language_info": {
      "name": "python"
    }
  },
  "cells": [
    {
      "cell_type": "markdown",
      "source": [
        "1. Peça o nome de um objeto para o usuário. Enquanto a palavra inserida for menor que 4 letras ou maior que 8 letras, imprima \"Palavra inválida\" e peça o nome do objeto novamente. Caso a palavra seja entre 4 a 8 letras, imprima \"Palavra válida\"."
      ],
      "metadata": {
        "id": "K8xFlUpXaOHk"
      }
    },
    {
      "cell_type": "code",
      "source": [
        "nome_do_objeto = str(input('Digite o nome de um objeto: '))\n",
        "\n",
        "while (len(nome_do_objeto) < 4 or len(nome_do_objeto) >8):\n",
        "  print('Palavra Inválida')\n",
        "  nome_do_objeto = str(input('Digite o nome de um objeto novamente: '))\n",
        "print(nome_do_objeto)  "
      ],
      "metadata": {
        "id": "xuPhZcaCOnab",
        "colab": {
          "base_uri": "https://localhost:8080/"
        },
        "outputId": "6cb7c8c1-56d0-49fd-b646-7dbec74c4f5e"
      },
      "execution_count": null,
      "outputs": [
        {
          "output_type": "stream",
          "name": "stdout",
          "text": [
            "Digite o nome de um objeto: Alargador\n",
            "Palavra Inválida\n",
            "Digite o nome de um objeto novamente: Garrafa\n",
            "Garrafa\n"
          ]
        }
      ]
    },
    {
      "cell_type": "markdown",
      "source": [
        "2. Use a palavra recebida na primeira questão e substitua toda letra 'a' pelo numeral 4, toda letra 'i' pelo numeral 1, toda letra 'e' pelo numeral 3 e imprima o resultado.\n",
        "\n",
        "  Se a palavra for cadeira deve-se imprimir c4d31r4"
      ],
      "metadata": {
        "id": "aSKftpVLaw4Y"
      }
    },
    {
      "cell_type": "code",
      "source": [
        "print(nome_do_objeto.replace('a','4').replace('i','1').replace('e','3'))"
      ],
      "metadata": {
        "id": "N-xrhvvjOq3W",
        "colab": {
          "base_uri": "https://localhost:8080/"
        },
        "outputId": "2bddaa33-e3bd-4d45-a763-165dff1a2b7f"
      },
      "execution_count": null,
      "outputs": [
        {
          "output_type": "stream",
          "name": "stdout",
          "text": [
            "G4rr4f4\n"
          ]
        }
      ]
    },
    {
      "cell_type": "markdown",
      "source": [
        "3. Crie uma função que recebe um número como parâmetro. A função deve calcular e retornar o fatorial desse número.\n",
        "\n",
        "  4! = 4\\*3! = 4\\*3\\*2\\*1\n",
        "\n",
        "  7! = 7\\*6! = 7\\*6\\*5\\*4\\*3\\*2\\*1"
      ],
      "metadata": {
        "id": "yMSbqNZebG_A"
      }
    },
    {
      "cell_type": "code",
      "source": [
        "\n",
        "fatorial = 1\n",
        "numero = int(input('Digite um número: '))\n",
        "numero_parametro = numero\n",
        "\n",
        "print(f'{numero}! = ', end='')\n",
        "\n",
        "while (numero_parametro > 0):\n",
        " print(f'{numero_parametro}', end='')\n",
        " print('*' if numero_parametro > 1 else ' = ', end='')\n",
        " fatorial *= numero_parametro\n",
        " numero_parametro -= 1    \n",
        "\n",
        "print(fatorial)"
      ],
      "metadata": {
        "id": "yde3PeRAOt2R",
        "colab": {
          "base_uri": "https://localhost:8080/"
        },
        "outputId": "321b1e34-9ae4-4af8-c7f9-4d33cbd8755d"
      },
      "execution_count": null,
      "outputs": [
        {
          "output_type": "stream",
          "name": "stdout",
          "text": [
            "Digite um número: 3\n",
            "3! = 3*2*1 = 6\n"
          ]
        }
      ]
    },
    {
      "cell_type": "markdown",
      "source": [
        "4. Crie uma função que recebe uma lista de números como parâmetro. A função deve filtrar a lista para apenas números positivos, em seguida deve remover os números repetidos e por fim imprimir a média dos números restantes"
      ],
      "metadata": {
        "id": "PKV9BrxhbbyI"
      }
    },
    {
      "cell_type": "code",
      "source": [
        "def filtrar_positivos(lista_de_numeros):\n",
        "   numeros_positivos = list(filter(lambda x: x>0,lista_de_numeros))\n",
        "   remover_duplicados = list(set(numeros_positivos))\n",
        "   print(sum(remover_duplicados)/len(remover_duplicados))\n",
        "\n",
        "\n",
        "lista_de_numeros = [-4,-2,-1,1,2,1,4,5,4,5,6] \n",
        "filtrar_positivos(lista_de_numeros)\n",
        "\n",
        " "
      ],
      "metadata": {
        "id": "DR_29MFvOwGi",
        "colab": {
          "base_uri": "https://localhost:8080/"
        },
        "outputId": "478e463f-d55b-4efb-f8cf-a30186bb4c21"
      },
      "execution_count": null,
      "outputs": [
        {
          "output_type": "stream",
          "name": "stdout",
          "text": [
            "3.6\n"
          ]
        }
      ]
    },
    {
      "cell_type": "markdown",
      "source": [
        "5. Crie uma função que recebe uma string com varias palavras separadas por virgula. Transforme essa string em uma lista de palavras.\n",
        "\n",
        "  `\"varias,palavras,separadas,por,virgula\"` deve virar `[\"varias\",\"palavras\",\"separadas\",\"por\",\"virgula\"]`\n",
        "\n",
        "  filtre essa lista, removendo as palavras começadas por 'p' ou terminadas em 's'.\n",
        "\n",
        "  Das palavras restantes, some o tamanho de cada palavra e imprime o resultado dessa soma"
      ],
      "metadata": {
        "id": "T4nx7nIyclzQ"
      }
    },
    {
      "cell_type": "code",
      "source": [
        "def transforma_mensagem (mensagem):\n",
        "  lista_de_palavras = mensagem.split(',')\n",
        "  lista_filtrada  =  list(filter(lambda x: x[0]!='p' and x[-1]!= 's', lista_de_palavras))\n",
        "  tamanho = sum(list(map(lambda x: len(x),lista_filtrada)))\n",
        "  print(f'A soma do tamanho das palavras{lista_filtrada} é {tamanho}')\n",
        "    \n",
        "\n",
        "transforma_mensagem('varias,palavras,separadas,por,virgula,fim')\n",
        "\n"
      ],
      "metadata": {
        "id": "_k_5TGTbO1o3",
        "colab": {
          "base_uri": "https://localhost:8080/"
        },
        "outputId": "7ac3a34e-5fcf-49e0-e30f-1a7509a71c67"
      },
      "execution_count": null,
      "outputs": [
        {
          "output_type": "stream",
          "name": "stdout",
          "text": [
            "A soma do tamanho das palavras['virgula', 'fim'] é 10\n"
          ]
        }
      ]
    },
    {
      "cell_type": "markdown",
      "source": [
        "6. Dentro da CLI do Linux/Mac, liste os comandos para:\n",
        " \n",
        " a) Criar uma pasta\n",
        " \n",
        " b) remover um arquivo/pasta\n",
        " \n",
        " c) listar todos os arquivos em um determinado diretorio\n",
        " \n",
        " d) navegar para outra pasta.\n",
        "\n",
        "```\n",
        "\n",
        "```\n",
        "\n"
      ],
      "metadata": {
        "id": "6ma-c3-UdtqH"
      }
    },
    {
      "cell_type": "markdown",
      "source": [
        ""
      ],
      "metadata": {
        "id": "zeofFjkSPgDQ"
      }
    },
    {
      "cell_type": "markdown",
      "source": [
        "7. Após entrar dentro de um arquivo de texto usando o comando \"vim nome_do_arquivo.txt\", que tecla precisamos apertar para conseguirmos editá-lo? E como é chamado esse **modo**? Como voltamos para o modo normal?"
      ],
      "metadata": {
        "id": "Nn-HhcSdkFGN"
      }
    },
    {
      "cell_type": "markdown",
      "source": [
        ""
      ],
      "metadata": {
        "id": "9Yk_pcn1PqQ1"
      }
    },
    {
      "cell_type": "markdown",
      "source": [
        "8. Após entrar dentro de um arquivo de texto usando o comando \"vim nome_do_arquivo.txt\", que comando precisamos dar para sair do arquivo salvando quaisquer alterações?"
      ],
      "metadata": {
        "id": "1qk4S8T4kUQc"
      }
    },
    {
      "cell_type": "markdown",
      "source": [
        ""
      ],
      "metadata": {
        "id": "sHaGnKaYPv_n"
      }
    },
    {
      "cell_type": "markdown",
      "source": [
        "9. Em um determinado projeto em python, temos 5 scripts diferentes, e 3 planilhas.\n",
        "Cada script tem um conjunto de funcionalidades. O Script nomeado \"ScriptA.py\" tem a função de remover itens duplicados em uma determinada planilha, e em seguida, gerar um grafico daquela informação.\n",
        "\n",
        "  Foi solicitado que você gerasse um novo **commit** modificando o Script cujo nome é \"ScriptA.py\", para que o mesmo fosse capaz de ler qualquer uma das 3 planilhas e efetuar sua função.\n",
        "\n",
        "  Para garantir que o Script funcionaria em diversos casos diferentes você precisou modificar as 3 planilhas.\n",
        "\n",
        "  Ao rodar `git status` no seu git bash, você identificou que existem 4 arquivos modificados. As 3 planilhas e o \"ScriptA.py\". Para efetuar um commit com **apenas a modificação solicitada**, qual seria a sequencia de comandos que deveria ser efetuada?"
      ],
      "metadata": {
        "id": "MCSp-sjhkc7m"
      }
    },
    {
      "cell_type": "markdown",
      "source": [
        ""
      ],
      "metadata": {
        "id": "dzqnuvqFP00d"
      }
    },
    {
      "cell_type": "markdown",
      "source": [
        "10. Descreva em suas palavras como se dá o github flow"
      ],
      "metadata": {
        "id": "vevpz_YAkljN"
      }
    },
    {
      "cell_type": "markdown",
      "source": [
        ""
      ],
      "metadata": {
        "id": "mxezxNwvP4iJ"
      }
    },
    {
      "cell_type": "markdown",
      "source": [
        "11. Quais comandos gits são usados para atualizar seu repositorio local e enviar atualizações para o repositorio remoto?"
      ],
      "metadata": {
        "id": "cROhLDQlktm8"
      }
    },
    {
      "cell_type": "markdown",
      "source": [
        ""
      ],
      "metadata": {
        "id": "jV64ppdjP_CR"
      }
    },
    {
      "cell_type": "markdown",
      "source": [
        "12. O que são \"Conflitos\"? Quais comandos de git podemos usar para resolvê-los? Quais as principais diferenças entre eles?"
      ],
      "metadata": {
        "id": "lV7NC6Lvk0fI"
      }
    },
    {
      "cell_type": "markdown",
      "source": [
        ""
      ],
      "metadata": {
        "id": "W2K2e8P_QGWW"
      }
    },
    {
      "cell_type": "markdown",
      "source": [
        "13. Usando boas práticas para a escrita de um commit message, escreva um exemplo de commit message que represente a mudança descrita na questão 9."
      ],
      "metadata": {
        "id": "KjWq5Fdbk3ak"
      }
    },
    {
      "cell_type": "markdown",
      "source": [
        ""
      ],
      "metadata": {
        "id": "O4ZjKRJuQJZN"
      }
    },
    {
      "cell_type": "code",
      "source": [
        "#6\n",
        "\n",
        "a - mkdir {nome da pasta}\n",
        "\n",
        "b - git rm\n",
        "\n",
        "c - ls\n",
        "\n",
        "d - cd {nome da pasta}\n",
        "\n",
        "\n",
        "#7\n",
        "\n",
        "É necessário apertar a tecla 'i' de insert para permitir digitação, esse modo é conhecido como Markdown que é a linguagem de marcação do arquivo README.md, e para retornar ao modo normal\n",
        "é preciso apertar :wq e pressionar enter.\n",
        "\n",
        "\n",
        "#8\n",
        "\n",
        "É necessário digitar :wq e pressionar enter para sair do vim, git add {nome do arquivo} para ficar em stagind e depois git commit para salvar uma versão local da modificação atual\n",
        "\n",
        "#9\n",
        "\n",
        "git checkout \"determinadoprojeto\" #exemplo de branch\n",
        "\n",
        "vim ScriptA.py\n",
        " i de insert pra realizar as modificações necessárias, depois :wq para retornar a branch\n",
        "   git status para verificar arquivos que podem ser adicionados\n",
        "     git add ScriptA.py para deixar arquivo em staging\n",
        "       git commit -m \":bug: fix: Ler qualquer planilha e executar função\" para commitar\n",
        "\n",
        "\n",
        "\n",
        "#10\n",
        "\n",
        "Ao contrário do git flow e do gitlab flow, o github flow não possui ambientes de pré produção, develop, hotfixes, release branchs e etc. Isso o torna uma estrutura mais simples para entender e praticar por exemplo,\n",
        "porém muito frágil, podendo facilmente quebrar a produção da master e impactar diretamente os clientes devido a falta de ramos de desenvolvimento, que nas outras estruturas servem como um filtro ambiente para realizar um merge ou \n",
        "rebase, apenas após validação técnica e gerenciamento de possíveis conflitos. \n",
        "\n",
        "#11\n",
        "\n",
        "• Para atualizar o repositório local se utiliza o comando git pull\n",
        "• Para enviar atualizações para o repositório remoto se utiliza o comando git push\n",
        "\n",
        "#12\n",
        "\n",
        "Os conflitos ocorrem quando numa mesma branch acontece uma alteração de código, conteúdo, exclusão ou modificação de arquivos numa mesma linha por autores diferentes. \n",
        "Quando o segundo autor tentar commitar, o git indicará o conflito que será necessário resolver com um merge ou rebase, indicando quais alterações devem permanecer.\n",
        "\n",
        "Principais diferenças:\n",
        "\n",
        "• Merge - Permite um histórico de commits em ambas as branchs, não apaga mesclagens e permite a navegação em todo hisórico. Porém tem como ponto negativo a poluição das ramificações que dificultam \n",
        "o entendimento da equipe no projeto.\n",
        "\n",
        "\n",
        "• Rebase - Mantém um histórico de projeto mais clean eliminando commits de mesclagem desnecessários, tem como ponto negativo a impossibilidade de rastrear as hashs navegando através \n",
        "do checkout para verificar onde as alterações foram adicionadas. \n",
        "\n",
        "#13\n",
        "\n",
        "git commit -m \":bug: fix: Ler qualquer planilha e executar função\"\n",
        "\n",
        "\n",
        "\n",
        "\n",
        "\n"
      ],
      "metadata": {
        "id": "sF-YNZ9Ik6om"
      },
      "execution_count": null,
      "outputs": []
    }
  ]
}